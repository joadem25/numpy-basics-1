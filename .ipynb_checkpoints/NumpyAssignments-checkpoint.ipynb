{
 "cells": [
  {
   "cell_type": "markdown",
   "id": "3452fcc6",
   "metadata": {},
   "source": [
    "# Assignment 1\n",
    "\n",
    "1. Generate an np array of (a) vector of lenght 50 (b) two dimension of shape 5x4. Both uniformly distributed between 0 and 1\n",
    "2. Split the two dimension array in 1 above into three arrays taking the first two rows, follow by the next two rows and put the remaining row in another variable\n",
    "3. Split the vector into in 1 above three arrays by taking the first 15, follow by the next 20 and the remaining into another variable.\n",
    "4. Create a 4x5 array: (a). Using manual method (b). Using randomly generated value between 0 and 1 (c). Using array of ones"
   ]
  },
  {
   "cell_type": "code",
   "execution_count": 1,
   "id": "f02e8ca0",
   "metadata": {},
   "outputs": [],
   "source": [
    "import numpy as np"
   ]
  },
  {
   "cell_type": "code",
   "execution_count": 2,
   "id": "25e14d0b",
   "metadata": {},
   "outputs": [
    {
     "data": {
      "text/plain": [
       "array([ 1,  2,  3,  4,  5,  6,  7,  8,  9, 10, 11, 12, 13, 14, 15, 16, 17,\n",
       "       18, 19, 20, 21, 22, 23, 24, 25, 26, 27, 28, 29, 30, 31, 32, 33, 34,\n",
       "       35, 36, 37, 38, 39, 40, 41, 42, 43, 44, 45, 46, 47, 48, 49, 50])"
      ]
     },
     "execution_count": 2,
     "metadata": {},
     "output_type": "execute_result"
    }
   ],
   "source": [
    "# 1. Generate an np array of (a) vector of lenght 50 \n",
    "a = np.arange(1,51)\n",
    "a"
   ]
  },
  {
   "cell_type": "code",
   "execution_count": 3,
   "id": "1c22bcd7",
   "metadata": {},
   "outputs": [
    {
     "data": {
      "text/plain": [
       "array([[0.89925583, 0.22229878, 0.10191183, 0.7121536 ],\n",
       "       [0.23026929, 0.31512997, 0.37001729, 0.87226766],\n",
       "       [0.90960563, 0.47676884, 0.29713758, 0.28809243],\n",
       "       [0.95611375, 0.24194855, 0.13207016, 0.12760796],\n",
       "       [0.54295135, 0.46235282, 0.47100134, 0.56323785]])"
      ]
     },
     "execution_count": 3,
     "metadata": {},
     "output_type": "execute_result"
    }
   ],
   "source": [
    "# 1. Generate an np array of (b) two dimension of shape 5x4. Both uniformly distributed between 0 and 1\n",
    "b = np.random.random((5,4))\n",
    "b"
   ]
  },
  {
   "cell_type": "code",
   "execution_count": 4,
   "id": "2d987337",
   "metadata": {},
   "outputs": [
    {
     "name": "stdout",
     "output_type": "stream",
     "text": [
      "The first array is\n",
      " [[0.89925583 0.22229878 0.10191183 0.7121536 ]\n",
      " [0.23026929 0.31512997 0.37001729 0.87226766]] \n",
      "\n",
      "The second array is\n",
      " [[0.90960563 0.47676884 0.29713758 0.28809243]\n",
      " [0.95611375 0.24194855 0.13207016 0.12760796]] \n",
      "\n",
      "The third array is\n",
      " [[0.54295135 0.46235282 0.47100134 0.56323785]] \n",
      "\n"
     ]
    }
   ],
   "source": [
    "# 2. Split the two dimension array in 1 above into three arrays taking the first two rows, \n",
    "# follow by the next two rows and put the remaining row in another variable\n",
    "first_array, second_array, third_array = np.vsplit(b, [2,4])\n",
    "print(\"The first array is\\n\", first_array, \"\\n\")\n",
    "print(\"The second array is\\n\", second_array, \"\\n\")\n",
    "print(\"The third array is\\n\", third_array, \"\\n\")"
   ]
  },
  {
   "cell_type": "code",
   "execution_count": 5,
   "id": "ec699a5a",
   "metadata": {},
   "outputs": [
    {
     "name": "stdout",
     "output_type": "stream",
     "text": [
      "[ 1  2  3  4  5  6  7  8  9 10 11 12 13 14 15] [16 17 18 19 20 21 22 23 24 25 26 27 28 29 30 31 32 33 34 35] [36 37 38 39 40 41 42 43 44 45 46 47 48 49 50]\n"
     ]
    }
   ],
   "source": [
    "# 3. Split the vector in 1 above into three arrays by taking the first 15, follow by the next 20 \n",
    "# and the remaining into another variable.\n",
    "array_1, array_2, array_3 = np.split(a,(15, 35))\n",
    "print(array_1, array_2, array_3)"
   ]
  },
  {
   "cell_type": "code",
   "execution_count": 6,
   "id": "cc1937df",
   "metadata": {},
   "outputs": [
    {
     "data": {
      "text/plain": [
       "array([[ 1,  2,  3,  4,  5],\n",
       "       [ 6,  7,  8,  9, 10],\n",
       "       [11, 12, 13, 14, 15],\n",
       "       [15, 16, 17, 18, 20]])"
      ]
     },
     "execution_count": 6,
     "metadata": {},
     "output_type": "execute_result"
    }
   ],
   "source": [
    "# 4. Create a 4x5 array: (a). Using manual method (b). Using randomly generated value between 0 and 1 \n",
    "# (c). Using array of ones\n",
    "\n",
    "np.array([[1,2,3,4,5],[6,7,8,9,10],[11,12,13,14,15],[15,16,17,18,20]])"
   ]
  },
  {
   "cell_type": "code",
   "execution_count": 7,
   "id": "1671205e",
   "metadata": {},
   "outputs": [
    {
     "data": {
      "text/plain": [
       "array([[0.53007066, 0.96110932, 0.49278796, 0.62145004, 0.05049521],\n",
       "       [0.2480795 , 0.13406187, 0.66904737, 0.46390366, 0.74116593],\n",
       "       [0.91572965, 0.97025797, 0.41519514, 0.20518979, 0.18361869],\n",
       "       [0.73941599, 0.47139385, 0.09516621, 0.98162824, 0.90481748]])"
      ]
     },
     "execution_count": 7,
     "metadata": {},
     "output_type": "execute_result"
    }
   ],
   "source": [
    "# 4. Create a 4x5 array: (b). Using randomly generated value between 0 and 1 \n",
    "\n",
    "np.random.random((4,5))"
   ]
  },
  {
   "cell_type": "code",
   "execution_count": 8,
   "id": "d0ff7960",
   "metadata": {},
   "outputs": [
    {
     "data": {
      "text/plain": [
       "array([[1, 1, 1, 1, 1],\n",
       "       [1, 1, 1, 1, 1],\n",
       "       [1, 1, 1, 1, 1],\n",
       "       [1, 1, 1, 1, 1]])"
      ]
     },
     "execution_count": 8,
     "metadata": {},
     "output_type": "execute_result"
    }
   ],
   "source": [
    "# (c). Using array of ones\n",
    "np.ones([4,5], dtype=int)"
   ]
  }
 ],
 "metadata": {
  "kernelspec": {
   "display_name": "Python 3",
   "language": "python",
   "name": "python3"
  },
  "language_info": {
   "codemirror_mode": {
    "name": "ipython",
    "version": 3
   },
   "file_extension": ".py",
   "mimetype": "text/x-python",
   "name": "python",
   "nbconvert_exporter": "python",
   "pygments_lexer": "ipython3",
   "version": "3.8.8"
  }
 },
 "nbformat": 4,
 "nbformat_minor": 5
}
